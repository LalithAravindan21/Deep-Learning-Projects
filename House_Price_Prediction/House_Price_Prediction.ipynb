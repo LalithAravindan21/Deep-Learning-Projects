{
  "nbformat": 4,
  "nbformat_minor": 0,
  "metadata": {
    "colab": {
      "provenance": []
    },
    "kernelspec": {
      "name": "python3",
      "display_name": "Python 3"
    },
    "language_info": {
      "name": "python"
    }
  },
  "cells": [
    {
      "cell_type": "code",
      "execution_count": null,
      "metadata": {
        "id": "zpii3QxWQyrc"
      },
      "outputs": [],
      "source": [
        "import numpy as np\n",
        "import pandas as pd\n",
        "import matplotlib.pyplot as plt\n",
        "import seaborn as sb\n"
      ]
    },
    {
      "cell_type": "code",
      "source": [
        "house_df=pd.read_csv(\"/content/Housing.csv\")"
      ],
      "metadata": {
        "id": "PChzbKLZeDwW"
      },
      "execution_count": null,
      "outputs": []
    },
    {
      "cell_type": "markdown",
      "source": [
        "# New Section"
      ],
      "metadata": {
        "id": "G8EbDZlTWiMR"
      }
    },
    {
      "cell_type": "code",
      "source": [
        "house_df.head()"
      ],
      "metadata": {
        "id": "pyUyobh1Ra3t"
      },
      "execution_count": null,
      "outputs": []
    },
    {
      "cell_type": "code",
      "source": [
        "house_df.shape"
      ],
      "metadata": {
        "id": "cZhqLjI2ReMx"
      },
      "execution_count": null,
      "outputs": []
    },
    {
      "cell_type": "code",
      "source": [
        "house_df.info()"
      ],
      "metadata": {
        "id": "mG-Cmi3YRhQh"
      },
      "execution_count": null,
      "outputs": []
    },
    {
      "cell_type": "code",
      "source": [
        "house_df.isnull().sum()"
      ],
      "metadata": {
        "id": "o_vIO9k9RkAy"
      },
      "execution_count": null,
      "outputs": []
    },
    {
      "cell_type": "code",
      "source": [
        "house_df.describe()"
      ],
      "metadata": {
        "id": "QnJCVybuRyLc"
      },
      "execution_count": null,
      "outputs": []
    },
    {
      "cell_type": "code",
      "source": [
        "sb.pairplot(house_df)\n",
        "plt.show()"
      ],
      "metadata": {
        "id": "bfT8HLBDR07b"
      },
      "execution_count": null,
      "outputs": []
    },
    {
      "cell_type": "code",
      "source": [
        "plot1 = sb.histplot(house_df['price'])\n",
        "plt.title('Price')\n",
        "plt.show()\n",
        "\n",
        "plot2 = sb.histplot(house_df['area'])\n",
        "plt.title('Area')\n",
        "plt.show()\n",
        "\n",
        "plot3 = sb.histplot(house_df['bedrooms'])\n",
        "plt.title('Bedrooms')\n",
        "plt.show()\n",
        "\n",
        "plot4 = sb.histplot(house_df['bathrooms'])\n",
        "plt.title('Bathrooms')\n",
        "plt.show()\n",
        "\n",
        "plot5 = sb.histplot(house_df['stories'])\n",
        "plt.title('Stories')\n",
        "plt.show()\n",
        "\n",
        "plot6 = sb.histplot(house_df['parking'])\n",
        "plt.title('Parking')\n",
        "plt.show()"
      ],
      "metadata": {
        "id": "TiSUErYSR37d"
      },
      "execution_count": null,
      "outputs": []
    },
    {
      "cell_type": "code",
      "source": [
        "plt.figure(figsize=(20, 12))\n",
        "plt.subplot(2,3,1)\n",
        "sb.boxplot(x = 'mainroad', y = 'price', data = house_df)\n",
        "plt.subplot(2,3,2)\n",
        "sb.boxplot(x = 'guestroom', y = 'price', data = house_df)\n",
        "plt.subplot(2,3,3)\n",
        "sb.boxplot(x = 'basement', y = 'price', data = house_df)\n",
        "plt.subplot(2,3,4)\n",
        "sb.boxplot(x = 'hotwaterheating', y = 'price', data = house_df)\n",
        "plt.subplot(2,3,5)\n",
        "sb.boxplot(x = 'airconditioning', y = 'price', data = house_df)\n",
        "plt.subplot(2,3,6)\n",
        "sb.boxplot(x = 'furnishingstatus', y = 'price', data = house_df)\n",
        "plt.show()"
      ],
      "metadata": {
        "id": "tyqz2EkQSPow"
      },
      "execution_count": null,
      "outputs": []
    },
    {
      "cell_type": "code",
      "source": [
        "sb.relplot(\n",
        "    data=house_df, kind=\"line\",\n",
        "    x=\"furnishingstatus\", y=\"price\", hue=\"airconditioning\",\n",
        "    dashes=False, markers=True,\n",
        ")"
      ],
      "metadata": {
        "id": "oxSku8HTSU8S"
      },
      "execution_count": null,
      "outputs": []
    },
    {
      "cell_type": "code",
      "source": [
        "categorical_list =  ['mainroad', 'guestroom', 'basement', 'hotwaterheating', 'airconditioning', 'prefarea']\n",
        "\n",
        "def binary_map(x):\n",
        "    return x.map({'yes': 1, \"no\": 0})\n",
        "house_df[categorical_list] = house_df[categorical_list].apply(binary_map)"
      ],
      "metadata": {
        "id": "FQR9Y7LrSY-r"
      },
      "execution_count": null,
      "outputs": []
    },
    {
      "cell_type": "code",
      "source": [
        "house_df.head()"
      ],
      "metadata": {
        "id": "iCipBcsESb58"
      },
      "execution_count": null,
      "outputs": []
    },
    {
      "cell_type": "code",
      "source": [
        "three_list = pd.get_dummies(house_df['furnishingstatus'])"
      ],
      "metadata": {
        "id": "AKDVdw4QSec4"
      },
      "execution_count": null,
      "outputs": []
    },
    {
      "cell_type": "code",
      "source": [
        "three_list.head()"
      ],
      "metadata": {
        "id": "wqUSJ7M6SgrD"
      },
      "execution_count": null,
      "outputs": []
    },
    {
      "cell_type": "code",
      "source": [
        "three_list = pd.get_dummies(house_df['furnishingstatus'], drop_first = True)"
      ],
      "metadata": {
        "id": "_TXnex8YSl09"
      },
      "execution_count": null,
      "outputs": []
    },
    {
      "cell_type": "code",
      "source": [
        "house_df=pd.concat([house_df, three_list], axis = 1)"
      ],
      "metadata": {
        "id": "tg5YIeOzSoij"
      },
      "execution_count": null,
      "outputs": []
    },
    {
      "cell_type": "code",
      "source": [
        "house_df.head()"
      ],
      "metadata": {
        "id": "goUs2VdoSrD2"
      },
      "execution_count": null,
      "outputs": []
    },
    {
      "cell_type": "code",
      "source": [
        "house_df.drop(['furnishingstatus'], axis = 1, inplace = True)"
      ],
      "metadata": {
        "id": "Tg2Q89ULS-P6"
      },
      "execution_count": null,
      "outputs": []
    },
    {
      "cell_type": "code",
      "source": [
        "house_df.head"
      ],
      "metadata": {
        "id": "ayWDJdqrTAeT"
      },
      "execution_count": null,
      "outputs": []
    },
    {
      "cell_type": "code",
      "source": [
        "from sklearn.preprocessing import MinMaxScaler\n",
        "scaler = MinMaxScaler()"
      ],
      "metadata": {
        "id": "dunwZPLL5MTf"
      },
      "execution_count": null,
      "outputs": []
    },
    {
      "cell_type": "code",
      "source": [
        "number_vars = ['area', 'bedrooms', 'bathrooms', 'stories', 'parking']\n",
        "\n",
        "house_df[number_vars] = scaler.fit_transform(house_df[number_vars])"
      ],
      "metadata": {
        "id": "uVLNP_5n5SpJ"
      },
      "execution_count": null,
      "outputs": []
    },
    {
      "cell_type": "code",
      "source": [
        "house_df"
      ],
      "metadata": {
        "id": "RbzMT94d5sGs"
      },
      "execution_count": null,
      "outputs": []
    },
    {
      "cell_type": "code",
      "source": [
        "X = house_df.drop(\"price\", axis=1)\n",
        "y = house_df[\"price\"]"
      ],
      "metadata": {
        "id": "eyUXrWv-6TPl"
      },
      "execution_count": null,
      "outputs": []
    },
    {
      "cell_type": "code",
      "source": [
        "X"
      ],
      "metadata": {
        "id": "QoKOYJi762KL"
      },
      "execution_count": null,
      "outputs": []
    },
    {
      "cell_type": "code",
      "source": [
        "y"
      ],
      "metadata": {
        "id": "1S7V0J2w63PC"
      },
      "execution_count": null,
      "outputs": []
    },
    {
      "cell_type": "code",
      "source": [
        "from sklearn.model_selection import train_test_split, cross_val_score\n",
        "from sklearn.preprocessing import StandardScaler\n",
        "from sklearn.metrics import r2_score, mean_absolute_error, mean_squared_error\n",
        "\n",
        "from sklearn.linear_model import LinearRegression\n",
        "X_train, X_test, y_train, y_test = train_test_split(X, y, test_size=0.2, random_state=42)"
      ],
      "metadata": {
        "id": "KFJznEal65Ap"
      },
      "execution_count": null,
      "outputs": []
    },
    {
      "cell_type": "code",
      "source": [
        "from sklearn.linear_model import LinearRegression\n",
        "\n",
        "# Create a Linear regressor\n",
        "model= LinearRegression()\n",
        "\n",
        "# Train the model using the training sets\n",
        "model.fit(X_train, y_train)"
      ],
      "metadata": {
        "id": "xpts-sUK8wTz"
      },
      "execution_count": null,
      "outputs": []
    },
    {
      "cell_type": "code",
      "source": [
        "y_pred = model.predict(X_train)"
      ],
      "metadata": {
        "id": "pSiQry1p--p8"
      },
      "execution_count": null,
      "outputs": []
    },
    {
      "cell_type": "code",
      "source": [
        "from sklearn import metrics\n",
        "print('R^2:',metrics.r2_score(y_train, y_pred))\n",
        "print('MAE:',metrics.mean_absolute_error(y_train, y_pred))\n",
        "print('MSE:',metrics.mean_squared_error(y_train, y_pred))\n",
        "print('RMSE:',np.sqrt(metrics.mean_squared_error(y_train, y_pred)))"
      ],
      "metadata": {
        "id": "DhRhDQx1_uK-"
      },
      "execution_count": null,
      "outputs": []
    },
    {
      "cell_type": "code",
      "source": [
        "plt.scatter(y_train, y_pred)\n",
        "plt.xlabel(\"Prices\")\n",
        "plt.ylabel(\"Predicted prices\")\n",
        "plt.title(\"Prices vs Predicted prices\")\n",
        "plt.show()"
      ],
      "metadata": {
        "id": "a2YV9IGtAFK-"
      },
      "execution_count": null,
      "outputs": []
    },
    {
      "cell_type": "code",
      "source": [
        "plt.scatter(y_pred,y_train-y_pred)\n",
        "plt.title(\"Predicted vs residuals\")\n",
        "plt.xlabel(\"Predicted\")\n",
        "plt.ylabel(\"Residuals\")\n",
        "plt.show()"
      ],
      "metadata": {
        "id": "2pOVigHIB5Oz"
      },
      "execution_count": null,
      "outputs": []
    },
    {
      "cell_type": "code",
      "source": [
        "sb.distplot(y_train-y_pred)\n",
        "plt.title(\"Histogram of Residuals\")\n",
        "plt.xlabel(\"Residuals\")\n",
        "plt.ylabel(\"Frequency\")\n",
        "plt.show()"
      ],
      "metadata": {
        "id": "AJOBFFS-B-oc"
      },
      "execution_count": null,
      "outputs": []
    },
    {
      "cell_type": "code",
      "source": [
        "y_test_pred = model.predict(X_test)\n",
        "print('R^2:',metrics.r2_score(y_test, y_test_pred))\n",
        "print('MAE:',metrics.mean_absolute_error(y_test, y_test_pred))\n",
        "print('MSE:',metrics.mean_squared_error(y_test, y_test_pred))\n",
        "print('RMSE:',np.sqrt(metrics.mean_squared_error(y_test, y_test_pred)))\n"
      ],
      "metadata": {
        "id": "kvHc4Gj4CEs7"
      },
      "execution_count": null,
      "outputs": []
    },
    {
      "cell_type": "code",
      "source": [
        "from sklearn.linear_model import Ridge\n",
        "from sklearn.linear_model import Lasso\n",
        "ridge = Ridge()\n",
        "ridge.fit(X_train, y_train)\n",
        "predictions = ridge.predict(X_train)"
      ],
      "metadata": {
        "id": "I3Cnh9DMCooY"
      },
      "execution_count": null,
      "outputs": []
    },
    {
      "cell_type": "code",
      "source": [
        "print('R^2:',metrics.r2_score(y_test, predictions))\n",
        "print('MAE:',metrics.mean_absolute_error(y_test, predictions))\n",
        "print('MSE:',metrics.mean_squared_error(y_test, predictions))\n",
        "print('RMSE:',np.sqrt(metrics.mean_squared_error(y_test, predictions)))"
      ],
      "metadata": {
        "id": "AJY3HPqODk_T"
      },
      "execution_count": null,
      "outputs": []
    },
    {
      "cell_type": "code",
      "source": [
        "plt.scatter(y_test,predictions)\n",
        "plt.xlabel(\"Prices\")\n",
        "plt.ylabel(\"Predicted prices\")\n",
        "plt.title(\"Prices vs Predicted prices\")\n",
        "plt.show()"
      ],
      "metadata": {
        "id": "Nk0xeBFSFPar"
      },
      "execution_count": null,
      "outputs": []
    },
    {
      "cell_type": "code",
      "source": [
        "sb.distplot(y_test-predictions)\n",
        "plt.title(\"Histogram of Residuals\")\n",
        "plt.xlabel(\"Residuals\")\n",
        "plt.ylabel(\"Frequency\")\n",
        "plt.show()"
      ],
      "metadata": {
        "id": "L_v2exyQFkPm"
      },
      "execution_count": null,
      "outputs": []
    },
    {
      "cell_type": "code",
      "source": [
        "lasso = Lasso()\n",
        "lasso.fit(X_train, y_train)\n",
        "predictions = lasso.predict(X_test)"
      ],
      "metadata": {
        "id": "LIHjnWtuF5FH"
      },
      "execution_count": null,
      "outputs": []
    },
    {
      "cell_type": "code",
      "source": [
        "print('R^2:',metrics.r2_score(y_test, predictions))\n",
        "print('MAE:',metrics.mean_absolute_error(y_test, predictions))\n",
        "print('MSE:',metrics.mean_squared_error(y_test, predictions))\n",
        "print('RMSE:',np.sqrt(metrics.mean_squared_error(y_test, predictions)))"
      ],
      "metadata": {
        "id": "tkhjHkFyGK7s"
      },
      "execution_count": null,
      "outputs": []
    },
    {
      "cell_type": "code",
      "source": [
        "plt.scatter(y_test,predictions)\n",
        "plt.xlabel(\"Prices\")\n",
        "plt.ylabel(\"Predicted prices\")\n",
        "plt.title(\"Prices vs Predicted prices\")\n",
        "plt.show()"
      ],
      "metadata": {
        "id": "68px2SHCGWw3"
      },
      "execution_count": null,
      "outputs": []
    },
    {
      "cell_type": "code",
      "source": [
        "from sklearn.ensemble import RandomForestRegressor\n",
        "reg = RandomForestRegressor()\n",
        "reg.fit(X_train, y_train)"
      ],
      "metadata": {
        "id": "AhCzFyPxGgHM"
      },
      "execution_count": null,
      "outputs": []
    },
    {
      "cell_type": "code",
      "source": [
        "y_pred = reg.predict(X_train)"
      ],
      "metadata": {
        "id": "hdKq62o9Gt7T"
      },
      "execution_count": null,
      "outputs": []
    },
    {
      "cell_type": "code",
      "source": [
        "print('R^2:',metrics.r2_score(y_train, y_pred))\n",
        "print('MAE:',metrics.mean_absolute_error(y_train, y_pred))\n",
        "print('MSE:',metrics.mean_squared_error(y_train, y_pred))\n",
        "print('RMSE:',np.sqrt(metrics.mean_squared_error(y_train,y_pred)))"
      ],
      "metadata": {
        "id": "AoURfLEeGyTy"
      },
      "execution_count": null,
      "outputs": []
    },
    {
      "cell_type": "code",
      "source": [
        "plt.scatter(y_train,y_pred)\n",
        "plt.xlabel(\"Prices\")\n",
        "plt.ylabel(\"Predicted prices\")\n",
        "plt.title(\"Prices vs Predicted prices\")\n",
        "plt.show()"
      ],
      "metadata": {
        "id": "kKlT-2zMHOOr"
      },
      "execution_count": null,
      "outputs": []
    },
    {
      "cell_type": "code",
      "source": [
        "plt.scatter(y_pred,y_train-y_pred)\n",
        "plt.title(\"Predicted vs residuals\")\n",
        "plt.xlabel(\"Predicted\")\n",
        "plt.ylabel(\"Residuals\")\n",
        "plt.show()"
      ],
      "metadata": {
        "id": "hT9WJcf5HmeL"
      },
      "execution_count": null,
      "outputs": []
    },
    {
      "cell_type": "code",
      "source": [
        "from sklearn import svm\n",
        "from sklearn.svm import SVR\n",
        "svr = SVR(C=100000)\n",
        "svr.fit(X_train, y_train)\n",
        "predictions = svr.predict(X_test)"
      ],
      "metadata": {
        "id": "VxbE9gf5H3PY"
      },
      "execution_count": null,
      "outputs": []
    },
    {
      "cell_type": "code",
      "source": [
        "print('R^2:',metrics.r2_score(y_test, predictions))\n",
        "print('MAE:',metrics.mean_absolute_error(y_test,predictions))\n",
        "print('MSE:',metrics.mean_squared_error(y_test, predictions))\n",
        "print('RMSE:',np.sqrt(metrics.mean_squared_error(y_test,predictions)))"
      ],
      "metadata": {
        "id": "PR0L2shlI6O0"
      },
      "execution_count": null,
      "outputs": []
    },
    {
      "cell_type": "code",
      "source": [
        "plt.scatter(y_test, predictions)\n",
        "plt.xlabel(\"Prices\")\n",
        "plt.ylabel(\"Predicted prices\")\n",
        "plt.title(\"Prices vs Predicted prices\")\n",
        "plt.show()"
      ],
      "metadata": {
        "id": "3-6lxGE1JFNq"
      },
      "execution_count": null,
      "outputs": []
    },
    {
      "cell_type": "code",
      "source": [
        "from xgboost import XGBRegressor\n",
        "reg = XGBRegressor()\n",
        "reg.fit(X_train, y_train)"
      ],
      "metadata": {
        "id": "RJtVAqeIKTZy"
      },
      "execution_count": null,
      "outputs": []
    },
    {
      "cell_type": "code",
      "source": [
        "y_pred = reg.predict(X_train)"
      ],
      "metadata": {
        "id": "f3TYP6hTLLlJ"
      },
      "execution_count": null,
      "outputs": []
    },
    {
      "cell_type": "code",
      "source": [
        "print('R^2:',metrics.r2_score(y_train, y_pred))\n",
        "print('MAE:',metrics.mean_absolute_error(y_train,y_pred))\n",
        "print('MSE:',metrics.mean_squared_error(y_train, y_pred))\n",
        "print('RMSE:',np.sqrt(metrics.mean_squared_error(y_train,y_pred)))"
      ],
      "metadata": {
        "id": "fkPFUI1xLPgq"
      },
      "execution_count": null,
      "outputs": []
    },
    {
      "cell_type": "code",
      "source": [
        "plt.scatter(y_train, y_pred)\n",
        "plt.xlabel(\"Prices\")\n",
        "plt.ylabel(\"Predicted prices\")\n",
        "plt.title(\"Prices vs Predicted prices\")\n",
        "plt.show()"
      ],
      "metadata": {
        "id": "-XQkCuQcLcL6"
      },
      "execution_count": null,
      "outputs": []
    },
    {
      "cell_type": "code",
      "source": [
        "plt.scatter(y_pred,y_train-y_pred)\n",
        "plt.title(\"Predicted vs residuals\")\n",
        "plt.xlabel(\"Predicted\")\n",
        "plt.ylabel(\"Residuals\")\n",
        "plt.show()"
      ],
      "metadata": {
        "id": "j0SvdwicLn2J"
      },
      "execution_count": null,
      "outputs": []
    },
    {
      "cell_type": "code",
      "source": [
        "y_test_pred = reg.predict(X_test)"
      ],
      "metadata": {
        "id": "S9Tk1JYaLs1x"
      },
      "execution_count": null,
      "outputs": []
    },
    {
      "cell_type": "code",
      "source": [
        "print('R^2:',metrics.r2_score(y_test, y_test_pred))\n",
        "print('MAE:',metrics.mean_absolute_error(y_test,y_test_pred))\n",
        "print('MSE:',metrics.mean_squared_error(y_test, y_test_pred))\n",
        "print('RMSE:',np.sqrt(metrics.mean_squared_error(y_test,y_test_pred)))"
      ],
      "metadata": {
        "id": "jdFFPS_SLzg8"
      },
      "execution_count": null,
      "outputs": []
    },
    {
      "cell_type": "code",
      "source": [],
      "metadata": {
        "id": "h7VM1bqoL6UN"
      },
      "execution_count": null,
      "outputs": []
    }
  ]
}